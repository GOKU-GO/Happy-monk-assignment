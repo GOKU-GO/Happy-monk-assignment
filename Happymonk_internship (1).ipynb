{
  "nbformat": 4,
  "nbformat_minor": 0,
  "metadata": {
    "colab": {
      "provenance": []
    },
    "kernelspec": {
      "name": "python3",
      "display_name": "Python 3"
    },
    "language_info": {
      "name": "python"
    }
  },
  "cells": [
    {
      "cell_type": "markdown",
      "metadata": {
        "id": "xcxrDs77v5CQ"
      },
      "source": [
        "# Happymonk Assignment"
      ]
    },
    {
      "cell_type": "code",
      "metadata": {
        "id": "9RXo8Mtc8rbu"
      },
      "source": [
        "import pandas as pd\n",
        "import numpy as np\n",
        "from pandas import read_csv\n",
        "import seaborn as sns\n",
        "from sklearn.model_selection import train_test_split\n",
        "from sklearn.preprocessing import LabelEncoder\n",
        "from sklearn.metrics import accuracy_score\n",
        "from tensorflow.keras import Sequential\n",
        "from tensorflow.keras.layers import Dense\n",
        "from matplotlib import pyplot as plt\n",
        "\n",
        "from IPython.core.interactiveshell import InteractiveShell\n",
        "InteractiveShell.ast_node_interactivity = \"all\""
      ],
      "execution_count": 1,
      "outputs": []
    },
    {
      "cell_type": "code",
      "metadata": {
        "colab": {
          "base_uri": "https://localhost:8080/",
          "height": 223
        },
        "id": "rG7PLQXF_WBs",
        "outputId": "e4bf74f1-08cc-4cce-d286-448e6fb60e97"
      },
      "source": [
        "# define the location of the dataset\n",
        "url = 'https://raw.githubusercontent.com/jbrownlee/Datasets/master/banknote_authentication.csv'\n",
        "# load the dataset\n",
        "datae = read_csv(url, header=None)\n",
        "# summarize shape\n",
        "datae.shape\n",
        "datae.head()"
      ],
      "execution_count": 2,
      "outputs": [
        {
          "output_type": "execute_result",
          "data": {
            "text/plain": [
              "(1372, 5)"
            ]
          },
          "metadata": {},
          "execution_count": 2
        },
        {
          "output_type": "execute_result",
          "data": {
            "text/plain": [
              "         0       1       2        3  4\n",
              "0  3.62160  8.6661 -2.8073 -0.44699  0\n",
              "1  4.54590  8.1674 -2.4586 -1.46210  0\n",
              "2  3.86600 -2.6383  1.9242  0.10645  0\n",
              "3  3.45660  9.5228 -4.0112 -3.59440  0\n",
              "4  0.32924 -4.4552  4.5718 -0.98880  0"
            ],
            "text/html": [
              "\n",
              "  <div id=\"df-3f687f55-7405-4e97-8cb5-7cf37e0b1c5b\">\n",
              "    <div class=\"colab-df-container\">\n",
              "      <div>\n",
              "<style scoped>\n",
              "    .dataframe tbody tr th:only-of-type {\n",
              "        vertical-align: middle;\n",
              "    }\n",
              "\n",
              "    .dataframe tbody tr th {\n",
              "        vertical-align: top;\n",
              "    }\n",
              "\n",
              "    .dataframe thead th {\n",
              "        text-align: right;\n",
              "    }\n",
              "</style>\n",
              "<table border=\"1\" class=\"dataframe\">\n",
              "  <thead>\n",
              "    <tr style=\"text-align: right;\">\n",
              "      <th></th>\n",
              "      <th>0</th>\n",
              "      <th>1</th>\n",
              "      <th>2</th>\n",
              "      <th>3</th>\n",
              "      <th>4</th>\n",
              "    </tr>\n",
              "  </thead>\n",
              "  <tbody>\n",
              "    <tr>\n",
              "      <th>0</th>\n",
              "      <td>3.62160</td>\n",
              "      <td>8.6661</td>\n",
              "      <td>-2.8073</td>\n",
              "      <td>-0.44699</td>\n",
              "      <td>0</td>\n",
              "    </tr>\n",
              "    <tr>\n",
              "      <th>1</th>\n",
              "      <td>4.54590</td>\n",
              "      <td>8.1674</td>\n",
              "      <td>-2.4586</td>\n",
              "      <td>-1.46210</td>\n",
              "      <td>0</td>\n",
              "    </tr>\n",
              "    <tr>\n",
              "      <th>2</th>\n",
              "      <td>3.86600</td>\n",
              "      <td>-2.6383</td>\n",
              "      <td>1.9242</td>\n",
              "      <td>0.10645</td>\n",
              "      <td>0</td>\n",
              "    </tr>\n",
              "    <tr>\n",
              "      <th>3</th>\n",
              "      <td>3.45660</td>\n",
              "      <td>9.5228</td>\n",
              "      <td>-4.0112</td>\n",
              "      <td>-3.59440</td>\n",
              "      <td>0</td>\n",
              "    </tr>\n",
              "    <tr>\n",
              "      <th>4</th>\n",
              "      <td>0.32924</td>\n",
              "      <td>-4.4552</td>\n",
              "      <td>4.5718</td>\n",
              "      <td>-0.98880</td>\n",
              "      <td>0</td>\n",
              "    </tr>\n",
              "  </tbody>\n",
              "</table>\n",
              "</div>\n",
              "      <button class=\"colab-df-convert\" onclick=\"convertToInteractive('df-3f687f55-7405-4e97-8cb5-7cf37e0b1c5b')\"\n",
              "              title=\"Convert this dataframe to an interactive table.\"\n",
              "              style=\"display:none;\">\n",
              "        \n",
              "  <svg xmlns=\"http://www.w3.org/2000/svg\" height=\"24px\"viewBox=\"0 0 24 24\"\n",
              "       width=\"24px\">\n",
              "    <path d=\"M0 0h24v24H0V0z\" fill=\"none\"/>\n",
              "    <path d=\"M18.56 5.44l.94 2.06.94-2.06 2.06-.94-2.06-.94-.94-2.06-.94 2.06-2.06.94zm-11 1L8.5 8.5l.94-2.06 2.06-.94-2.06-.94L8.5 2.5l-.94 2.06-2.06.94zm10 10l.94 2.06.94-2.06 2.06-.94-2.06-.94-.94-2.06-.94 2.06-2.06.94z\"/><path d=\"M17.41 7.96l-1.37-1.37c-.4-.4-.92-.59-1.43-.59-.52 0-1.04.2-1.43.59L10.3 9.45l-7.72 7.72c-.78.78-.78 2.05 0 2.83L4 21.41c.39.39.9.59 1.41.59.51 0 1.02-.2 1.41-.59l7.78-7.78 2.81-2.81c.8-.78.8-2.07 0-2.86zM5.41 20L4 18.59l7.72-7.72 1.47 1.35L5.41 20z\"/>\n",
              "  </svg>\n",
              "      </button>\n",
              "      \n",
              "  <style>\n",
              "    .colab-df-container {\n",
              "      display:flex;\n",
              "      flex-wrap:wrap;\n",
              "      gap: 12px;\n",
              "    }\n",
              "\n",
              "    .colab-df-convert {\n",
              "      background-color: #E8F0FE;\n",
              "      border: none;\n",
              "      border-radius: 50%;\n",
              "      cursor: pointer;\n",
              "      display: none;\n",
              "      fill: #1967D2;\n",
              "      height: 32px;\n",
              "      padding: 0 0 0 0;\n",
              "      width: 32px;\n",
              "    }\n",
              "\n",
              "    .colab-df-convert:hover {\n",
              "      background-color: #E2EBFA;\n",
              "      box-shadow: 0px 1px 2px rgba(60, 64, 67, 0.3), 0px 1px 3px 1px rgba(60, 64, 67, 0.15);\n",
              "      fill: #174EA6;\n",
              "    }\n",
              "\n",
              "    [theme=dark] .colab-df-convert {\n",
              "      background-color: #3B4455;\n",
              "      fill: #D2E3FC;\n",
              "    }\n",
              "\n",
              "    [theme=dark] .colab-df-convert:hover {\n",
              "      background-color: #434B5C;\n",
              "      box-shadow: 0px 1px 3px 1px rgba(0, 0, 0, 0.15);\n",
              "      filter: drop-shadow(0px 1px 2px rgba(0, 0, 0, 0.3));\n",
              "      fill: #FFFFFF;\n",
              "    }\n",
              "  </style>\n",
              "\n",
              "      <script>\n",
              "        const buttonEl =\n",
              "          document.querySelector('#df-3f687f55-7405-4e97-8cb5-7cf37e0b1c5b button.colab-df-convert');\n",
              "        buttonEl.style.display =\n",
              "          google.colab.kernel.accessAllowed ? 'block' : 'none';\n",
              "\n",
              "        async function convertToInteractive(key) {\n",
              "          const element = document.querySelector('#df-3f687f55-7405-4e97-8cb5-7cf37e0b1c5b');\n",
              "          const dataTable =\n",
              "            await google.colab.kernel.invokeFunction('convertToInteractive',\n",
              "                                                     [key], {});\n",
              "          if (!dataTable) return;\n",
              "\n",
              "          const docLinkHtml = 'Like what you see? Visit the ' +\n",
              "            '<a target=\"_blank\" href=https://colab.research.google.com/notebooks/data_table.ipynb>data table notebook</a>'\n",
              "            + ' to learn more about interactive tables.';\n",
              "          element.innerHTML = '';\n",
              "          dataTable['output_type'] = 'display_data';\n",
              "          await google.colab.output.renderOutput(dataTable, element);\n",
              "          const docLink = document.createElement('div');\n",
              "          docLink.innerHTML = docLinkHtml;\n",
              "          element.appendChild(docLink);\n",
              "        }\n",
              "      </script>\n",
              "    </div>\n",
              "  </div>\n",
              "  "
            ]
          },
          "metadata": {},
          "execution_count": 2
        }
      ]
    },
    {
      "cell_type": "code",
      "metadata": {
        "colab": {
          "base_uri": "https://localhost:8080/",
          "height": 559
        },
        "id": "xFPagCNl9Wat",
        "outputId": "daa2da81-cb85-4425-f328-451ce7816198"
      },
      "source": [
        "from matplotlib import pyplot\n",
        "# show summary statistics\n",
        "print(datae.describe())\n",
        "# plot histograms\n",
        "datae.hist()\n",
        "pyplot.show()"
      ],
      "execution_count": 3,
      "outputs": [
        {
          "output_type": "stream",
          "name": "stdout",
          "text": [
            "                 0            1            2            3            4\n",
            "count  1372.000000  1372.000000  1372.000000  1372.000000  1372.000000\n",
            "mean      0.433735     1.922353     1.397627    -1.191657     0.444606\n",
            "std       2.842763     5.869047     4.310030     2.101013     0.497103\n",
            "min      -7.042100   -13.773100    -5.286100    -8.548200     0.000000\n",
            "25%      -1.773000    -1.708200    -1.574975    -2.413450     0.000000\n",
            "50%       0.496180     2.319650     0.616630    -0.586650     0.000000\n",
            "75%       2.821475     6.814625     3.179250     0.394810     1.000000\n",
            "max       6.824800    12.951600    17.927400     2.449500     1.000000\n"
          ]
        },
        {
          "output_type": "execute_result",
          "data": {
            "text/plain": [
              "array([[<matplotlib.axes._subplots.AxesSubplot object at 0x7f1048da6ee0>,\n",
              "        <matplotlib.axes._subplots.AxesSubplot object at 0x7f1048d95310>],\n",
              "       [<matplotlib.axes._subplots.AxesSubplot object at 0x7f1048d40730>,\n",
              "        <matplotlib.axes._subplots.AxesSubplot object at 0x7f1048cefb20>],\n",
              "       [<matplotlib.axes._subplots.AxesSubplot object at 0x7f1048d1df10>,\n",
              "        <matplotlib.axes._subplots.AxesSubplot object at 0x7f1048cd63a0>]],\n",
              "      dtype=object)"
            ]
          },
          "metadata": {},
          "execution_count": 3
        },
        {
          "output_type": "display_data",
          "data": {
            "text/plain": [
              "<Figure size 432x288 with 6 Axes>"
            ],
            "image/png": "[encoded data removed]"
          },
          "metadata": {
            "needs_background": "light"
          }
        }
      ]
    },
    {
      "cell_type": "code",
      "source": [
        "datae.info()"
      ],
      "metadata": {
        "colab": {
          "base_uri": "https://localhost:8080/"
        },
        "id": "CfT7V7HcD8AY",
        "outputId": "8a3a07b7-18e4-4513-d4d1-3274e021ea5a"
      },
      "execution_count": 4,
      "outputs": [
        {
          "output_type": "stream",
          "name": "stdout",
          "text": [
            "<class 'pandas.core.frame.DataFrame'>\n",
            "RangeIndex: 1372 entries, 0 to 1371\n",
            "Data columns (total 5 columns):\n",
            " #   Column  Non-Null Count  Dtype  \n",
            "---  ------  --------------  -----  \n",
            " 0   0       1372 non-null   float64\n",
            " 1   1       1372 non-null   float64\n",
            " 2   2       1372 non-null   float64\n",
            " 3   3       1372 non-null   float64\n",
            " 4   4       1372 non-null   int64  \n",
            "dtypes: float64(4), int64(1)\n",
            "memory usage: 53.7 KB\n"
          ]
        }
      ]
    },
    {
      "cell_type": "code",
      "source": [
        "for col in datae.columns:\n",
        "    print(col)\n",
        "    print('-------------------------')\n",
        "    print(datae[col].value_counts()/np.float(len(datae)))\n",
        "    print()"
      ],
      "metadata": {
        "colab": {
          "base_uri": "https://localhost:8080/"
        },
        "id": "womqoBdJ45WW",
        "outputId": "24817399-f9b5-47dc-b106-bb2d16c35b35"
      },
      "execution_count": 5,
      "outputs": [
        {
          "output_type": "stream",
          "name": "stdout",
          "text": [
            "0\n",
            "-------------------------\n",
            " 0.5706    0.003644\n",
            " 0.5195    0.002915\n",
            " 0.3292    0.002915\n",
            " 0.3798    0.002915\n",
            "-2.6479    0.002187\n",
            "             ...   \n",
            " 0.1848    0.000729\n",
            " 4.5707    0.000729\n",
            " 2.9742    0.000729\n",
            " 1.1472    0.000729\n",
            "-2.5419    0.000729\n",
            "Name: 0, Length: 1338, dtype: float64\n",
            "\n",
            "1\n",
            "-------------------------\n",
            "-4.45520    0.004373\n",
            "-3.26330    0.003644\n",
            " 0.70980    0.002915\n",
            "-3.79710    0.002915\n",
            "-0.02480    0.002915\n",
            "              ...   \n",
            " 8.81100    0.000729\n",
            " 6.40230    0.000729\n",
            " 7.27970    0.000729\n",
            " 2.10860    0.000729\n",
            "-0.65804    0.000729\n",
            "Name: 1, Length: 1256, dtype: float64\n",
            "\n",
            "2\n",
            "-------------------------\n",
            " 1.2421    0.003644\n",
            " 4.5718    0.003644\n",
            " 3.0895    0.003644\n",
            " 0.7572    0.002915\n",
            "-3.7044    0.002187\n",
            "             ...   \n",
            "-2.0439    0.000729\n",
            " 1.0588    0.000729\n",
            "-0.7843    0.000729\n",
            "-2.9024    0.000729\n",
            " 2.6842    0.000729\n",
            "Name: 2, Length: 1270, dtype: float64\n",
            "\n",
            "3\n",
            "-------------------------\n",
            "-0.29570    0.003644\n",
            "-0.98880    0.003644\n",
            "-0.44440    0.002915\n",
            " 0.36119    0.002915\n",
            "-0.23751    0.002915\n",
            "              ...   \n",
            " 0.75558    0.000729\n",
            "-0.44182    0.000729\n",
            "-0.24010    0.000729\n",
            "-1.30820    0.000729\n",
            "-2.77710    0.000729\n",
            "Name: 3, Length: 1156, dtype: float64\n",
            "\n",
            "4\n",
            "-------------------------\n",
            "0    0.555394\n",
            "1    0.444606\n",
            "Name: 4, dtype: float64\n",
            "\n"
          ]
        },
        {
          "output_type": "stream",
          "name": "stderr",
          "text": [
            "<ipython-input-5-2bbfb22180f2>:4: DeprecationWarning: `np.float` is a deprecated alias for the builtin `float`. To silence this warning, use `float` by itself. Doing this will not modify any behavior and is safe. If you specifically wanted the numpy scalar type, use `np.float64` here.\n",
            "Deprecated in NumPy 1.20; for more details and guidance: https://numpy.org/devdocs/release/1.20.0-notes.html#deprecations\n",
            "  print(datae[col].value_counts()/np.float(len(datae)))\n"
          ]
        }
      ]
    },
    {
      "cell_type": "code",
      "source": [
        "df1 = datae.select_dtypes([np.int64, np.float64])\n",
        "for i, col in enumerate(df1.columns):\n",
        "    plt.figure(i)\n",
        "    sns.boxplot(y = col, data = df1)"
      ],
      "metadata": {
        "colab": {
          "base_uri": "https://localhost:8080/",
          "height": 1000
        },
        "id": "RdbBFFLZ5TG5",
        "outputId": "cc400b24-ca01-498d-8317-c6ab4b1bbe2c"
      },
      "execution_count": 6,
      "outputs": [
        {
          "output_type": "execute_result",
          "data": {
            "text/plain": [
              "<Figure size 432x288 with 0 Axes>"
            ]
          },
          "metadata": {},
          "execution_count": 6
        },
        {
          "output_type": "execute_result",
          "data": {
            "text/plain": [
              "<matplotlib.axes._subplots.AxesSubplot at 0x7f1048c052e0>"
            ]
          },
          "metadata": {},
          "execution_count": 6
        },
        {
          "output_type": "execute_result",
          "data": {
            "text/plain": [
              "<Figure size 432x288 with 0 Axes>"
            ]
          },
          "metadata": {},
          "execution_count": 6
        },
        {
          "output_type": "execute_result",
          "data": {
            "text/plain": [
              "<matplotlib.axes._subplots.AxesSubplot at 0x7f1048bd94c0>"
            ]
          },
          "metadata": {},
          "execution_count": 6
        },
        {
          "output_type": "execute_result",
          "data": {
            "text/plain": [
              "<Figure size 432x288 with 0 Axes>"
            ]
          },
          "metadata": {},
          "execution_count": 6
        },
        {
          "output_type": "execute_result",
          "data": {
            "text/plain": [
              "<matplotlib.axes._subplots.AxesSubplot at 0x7f1048625520>"
            ]
          },
          "metadata": {},
          "execution_count": 6
        },
        {
          "output_type": "execute_result",
          "data": {
            "text/plain": [
              "<Figure size 432x288 with 0 Axes>"
            ]
          },
          "metadata": {},
          "execution_count": 6
        },
        {
          "output_type": "execute_result",
          "data": {
            "text/plain": [
              "<matplotlib.axes._subplots.AxesSubplot at 0x7f10485e5f70>"
            ]
          },
          "metadata": {},
          "execution_count": 6
        },
        {
          "output_type": "execute_result",
          "data": {
            "text/plain": [
              "<Figure size 432x288 with 0 Axes>"
            ]
          },
          "metadata": {},
          "execution_count": 6
        },
        {
          "output_type": "execute_result",
          "data": {
            "text/plain": [
              "<matplotlib.axes._subplots.AxesSubplot at 0x7f104859b550>"
            ]
          },
          "metadata": {},
          "execution_count": 6
        },
        {
          "output_type": "display_data",
          "data": {
            "text/plain": [
              "<Figure size 432x288 with 1 Axes>"
            ],
            "image/png": "[encoded data removed]"
          },
          "metadata": {
            "needs_background": "light"
          }
        },
        {
          "output_type": "display_data",
          "data": {
            "text/plain": [
              "<Figure size 432x288 with 1 Axes>"
            ],
            "image/png": "[encoded data removed]"
          },
          "metadata": {
            "needs_background": "light"
          }
        },
        {
          "output_type": "display_data",
          "data": {
            "text/plain": [
              "<Figure size 432x288 with 1 Axes>"
            ],
            "image/png": "[encoded data removed]"
          },
          "metadata": {
            "needs_background": "light"
          }
        },
        {
          "output_type": "display_data",
          "data": {
            "text/plain": [
              "<Figure size 432x288 with 1 Axes>"
            ],
            "image/png": "[encoded data removed]"
          },
          "metadata": {
            "needs_background": "light"
          }
        },
        {
          "output_type": "display_data",
          "data": {
            "text/plain": [
              "<Figure size 432x288 with 1 Axes>"
            ],
            "image/png": "[encoded data removed]"
          },
          "metadata": {
            "needs_background": "light"
          }
        }
      ]
    },
    {
      "cell_type": "code",
      "metadata": {
        "id": "LW8uUP_X9xRf"
      },
      "source": [
        "# split into input and output columns\n",
        "X, y = datae.values[:, :-1], datae.values[:, -1]"
      ],
      "execution_count": 7,
      "outputs": []
    },
    {
      "cell_type": "code",
      "metadata": {
        "id": "jhS_qsEP_5dq"
      },
      "source": [
        "# split into train and test datasets\n",
        "X_train, X_test, y_train, y_test = train_test_split(X, y, test_size=0.20)"
      ],
      "execution_count": 8,
      "outputs": []
    },
    {
      "cell_type": "code",
      "metadata": {
        "id": "m9OnfHjR_77N"
      },
      "source": [
        "# determine the number of input features\n",
        "n_features = X.shape[1]"
      ],
      "execution_count": 9,
      "outputs": []
    },
    {
      "cell_type": "markdown",
      "metadata": {
        "id": "hiOmIAQetaG_"
      },
      "source": [
        "# Implementing Activation function for 15 epochs"
      ]
    },
    {
      "cell_type": "code",
      "metadata": {
        "colab": {
          "base_uri": "https://localhost:8080/"
        },
        "id": "P_U1FfdH_9p2",
        "outputId": "c762e13c-d5a7-4af2-f419-9f974e95597d"
      },
      "source": [
        "# define model\n",
        "model = Sequential()\n",
        "model.add(Dense(10, activation='relu', kernel_initializer='he_normal', input_shape=(n_features,)))\n",
        "model.add(Dense(1, activation='sigmoid'))\n",
        "# compile the model\n",
        "model.compile(optimizer='adam', loss='binary_crossentropy', metrics=['accuracy'])\n",
        "# fit the model\n",
        "history = model.fit(X_train, y_train, epochs=15, batch_size=32, verbose=2, validation_data=(X_test,y_test))\n",
        "# predict test set\n",
        "yhat = model.predict(X_test) > 0.5\n",
        "# evaluate predictions\n",
        "score = accuracy_score(y_test, yhat)\n",
        "print('Accuracy: %.3f' % score)"
      ],
      "execution_count": 10,
      "outputs": [
        {
          "output_type": "stream",
          "name": "stdout",
          "text": [
            "Epoch 1/15\n",
            "35/35 - 1s - loss: 4.2379 - accuracy: 0.2407 - val_loss: 3.9307 - val_accuracy: 0.2182 - 1s/epoch - 38ms/step\n",
            "Epoch 2/15\n",
            "35/35 - 0s - loss: 3.3850 - accuracy: 0.2352 - val_loss: 3.1980 - val_accuracy: 0.2327 - 167ms/epoch - 5ms/step\n",
            "Epoch 3/15\n",
            "35/35 - 0s - loss: 2.7170 - accuracy: 0.2944 - val_loss: 2.6749 - val_accuracy: 0.3527 - 225ms/epoch - 6ms/step\n",
            "Epoch 4/15\n",
            "35/35 - 0s - loss: 2.2718 - accuracy: 0.4102 - val_loss: 2.3173 - val_accuracy: 0.4400 - 168ms/epoch - 5ms/step\n",
            "Epoch 5/15\n",
            "35/35 - 0s - loss: 1.9517 - accuracy: 0.4640 - val_loss: 2.0265 - val_accuracy: 0.4727 - 249ms/epoch - 7ms/step\n",
            "Epoch 6/15\n",
            "35/35 - 0s - loss: 1.6878 - accuracy: 0.5114 - val_loss: 1.7700 - val_accuracy: 0.5091 - 185ms/epoch - 5ms/step\n",
            "Epoch 7/15\n",
            "35/35 - 0s - loss: 1.4695 - accuracy: 0.5542 - val_loss: 1.5555 - val_accuracy: 0.5564 - 163ms/epoch - 5ms/step\n",
            "Epoch 8/15\n",
            "35/35 - 0s - loss: 1.2881 - accuracy: 0.5916 - val_loss: 1.3728 - val_accuracy: 0.5855 - 352ms/epoch - 10ms/step\n",
            "Epoch 9/15\n",
            "35/35 - 0s - loss: 1.1369 - accuracy: 0.6208 - val_loss: 1.2108 - val_accuracy: 0.6145 - 148ms/epoch - 4ms/step\n",
            "Epoch 10/15\n",
            "35/35 - 0s - loss: 1.0064 - accuracy: 0.6545 - val_loss: 1.0730 - val_accuracy: 0.6436 - 265ms/epoch - 8ms/step\n",
            "Epoch 11/15\n",
            "35/35 - 0s - loss: 0.8947 - accuracy: 0.6764 - val_loss: 0.9471 - val_accuracy: 0.6836 - 198ms/epoch - 6ms/step\n",
            "Epoch 12/15\n",
            "35/35 - 0s - loss: 0.7989 - accuracy: 0.7019 - val_loss: 0.8495 - val_accuracy: 0.7055 - 137ms/epoch - 4ms/step\n",
            "Epoch 13/15\n",
            "35/35 - 0s - loss: 0.7170 - accuracy: 0.7338 - val_loss: 0.7571 - val_accuracy: 0.7345 - 141ms/epoch - 4ms/step\n",
            "Epoch 14/15\n",
            "35/35 - 0s - loss: 0.6455 - accuracy: 0.7603 - val_loss: 0.6842 - val_accuracy: 0.7491 - 270ms/epoch - 8ms/step\n",
            "Epoch 15/15\n",
            "35/35 - 0s - loss: 0.5833 - accuracy: 0.7794 - val_loss: 0.6155 - val_accuracy: 0.7673 - 278ms/epoch - 8ms/step\n",
            "9/9 [==============================] - 0s 6ms/step\n",
            "Accuracy: 0.767\n"
          ]
        }
      ]
    },
    {
      "cell_type": "code",
      "source": [
        "from sklearn.metrics import classification_report\n",
        "classification_report(y_test, yhat, labels=[0,1])"
      ],
      "metadata": {
        "colab": {
          "base_uri": "https://localhost:8080/",
          "height": 70
        },
        "id": "XIp2prQ__cK4",
        "outputId": "d4bb769d-18ef-46ae-f872-27d9f44e7798"
      },
      "execution_count": 11,
      "outputs": [
        {
          "output_type": "execute_result",
          "data": {
            "text/plain": [
              "'              precision    recall  f1-score   support\\n\\n           0       0.80      0.77      0.79       152\\n           1       0.73      0.76      0.75       123\\n\\n    accuracy                           0.77       275\\n   macro avg       0.77      0.77      0.77       275\\nweighted avg       0.77      0.77      0.77       275\\n'"
            ],
            "application/vnd.google.colaboratory.intrinsic+json": {
              "type": "string"
            }
          },
          "metadata": {},
          "execution_count": 11
        }
      ]
    },
    {
      "cell_type": "markdown",
      "metadata": {
        "id": "NEB8gG2mtg0b"
      },
      "source": [
        "# Train vs test Accuracy"
      ]
    },
    {
      "cell_type": "code",
      "metadata": {
        "colab": {
          "base_uri": "https://localhost:8080/"
        },
        "id": "iHVTxgQLqj0n",
        "outputId": "a87edf4b-b13b-4d20-911e-e137cc0b48f6"
      },
      "source": [
        "# evaluate the model\n",
        "_, train_acc = model.evaluate(X_train, y_train, verbose=0)\n",
        "_, test_acc = model.evaluate(X_test, y_test, verbose=0)\n",
        "print('Train: %.3f, Test: %.3f' % (train_acc, test_acc))"
      ],
      "execution_count": 12,
      "outputs": [
        {
          "output_type": "stream",
          "name": "stdout",
          "text": [
            "Train: 0.789, Test: 0.767\n"
          ]
        }
      ]
    },
    {
      "cell_type": "code",
      "metadata": {
        "colab": {
          "base_uri": "https://localhost:8080/",
          "height": 642
        },
        "id": "8F18q4T0Hh14",
        "outputId": "d1ae7d21-7c92-4684-d32f-3c33c873c8ab"
      },
      "source": [
        "# plot learning curves\n",
        "pyplot.title('Loss Curve')\n",
        "pyplot.xlabel('Epoch')\n",
        "pyplot.ylabel('Loss')\n",
        "pyplot.plot(history.history['loss'], label='train')\n",
        "pyplot.plot(history.history['val_loss'], label='val')\n",
        "pyplot.legend()\n",
        "pyplot.show()\n",
        "\n",
        "pyplot.title('Accuracy')\n",
        "pyplot.xlabel('Epoch')\n",
        "pyplot.ylabel('Accuracy')\n",
        "pyplot.plot(history.history['accuracy'], label='train')\n",
        "pyplot.plot(history.history['val_accuracy'], label='test')\n",
        "pyplot.legend()\n",
        "pyplot.show()"
      ],
      "execution_count": 13,
      "outputs": [
        {
          "output_type": "execute_result",
          "data": {
            "text/plain": [
              "Text(0.5, 1.0, 'Loss Curve')"
            ]
          },
          "metadata": {},
          "execution_count": 13
        },
        {
          "output_type": "execute_result",
          "data": {
            "text/plain": [
              "Text(0.5, 0, 'Epoch')"
            ]
          },
          "metadata": {},
          "execution_count": 13
        },
        {
          "output_type": "execute_result",
          "data": {
            "text/plain": [
              "Text(0, 0.5, 'Loss')"
            ]
          },
          "metadata": {},
          "execution_count": 13
        },
        {
          "output_type": "execute_result",
          "data": {
            "text/plain": [
              "[<matplotlib.lines.Line2D at 0x7f1043e0d850>]"
            ]
          },
          "metadata": {},
          "execution_count": 13
        },
        {
          "output_type": "execute_result",
          "data": {
            "text/plain": [
              "[<matplotlib.lines.Line2D at 0x7f1043e0dca0>]"
            ]
          },
          "metadata": {},
          "execution_count": 13
        },
        {
          "output_type": "execute_result",
          "data": {
            "text/plain": [
              "<matplotlib.legend.Legend at 0x7f1043e0df40>"
            ]
          },
          "metadata": {},
          "execution_count": 13
        },
        {
          "output_type": "display_data",
          "data": {
            "text/plain": [
              "<Figure size 432x288 with 1 Axes>"
            ],
            "image/png": "[encoded data removed]"
          },
          "metadata": {
            "needs_background": "light"
          }
        },
        {
          "output_type": "execute_result",
          "data": {
            "text/plain": [
              "Text(0.5, 1.0, 'Accuracy')"
            ]
          },
          "metadata": {},
          "execution_count": 13
        },
        {
          "output_type": "execute_result",
          "data": {
            "text/plain": [
              "Text(0.5, 0, 'Epoch')"
            ]
          },
          "metadata": {},
          "execution_count": 13
        },
        {
          "output_type": "execute_result",
          "data": {
            "text/plain": [
              "Text(0, 0.5, 'Accuracy')"
            ]
          },
          "metadata": {},
          "execution_count": 13
        },
        {
          "output_type": "execute_result",
          "data": {
            "text/plain": [
              "[<matplotlib.lines.Line2D at 0x7f1043e2a520>]"
            ]
          },
          "metadata": {},
          "execution_count": 13
        },
        {
          "output_type": "execute_result",
          "data": {
            "text/plain": [
              "[<matplotlib.lines.Line2D at 0x7f1043e3dc40>]"
            ]
          },
          "metadata": {},
          "execution_count": 13
        },
        {
          "output_type": "execute_result",
          "data": {
            "text/plain": [
              "<matplotlib.legend.Legend at 0x7f1043e207f0>"
            ]
          },
          "metadata": {},
          "execution_count": 13
        },
        {
          "output_type": "display_data",
          "data": {
            "text/plain": [
              "<Figure size 432x288 with 1 Axes>"
            ],
            "image/png": "[encoded data removed]"
          },
          "metadata": {
            "needs_background": "light"
          }
        }
      ]
    },
    {
      "cell_type": "code",
      "source": [
        "from sklearn.metrics import accuracy_score\n",
        "from sklearn.metrics import precision_score\n",
        "from sklearn.metrics import recall_score\n",
        "from sklearn.metrics import f1_score\n",
        "from sklearn.metrics import cohen_kappa_score\n",
        "from sklearn.metrics import roc_auc_score\n",
        "from sklearn.metrics import confusion_matrix\n",
        "from keras.models import Sequential\n",
        "from keras.layers import Dense\n",
        "# predict probabilities for test set\n",
        "yhat_probs = model.predict(X_test, verbose=2)>0.5\n",
        "# predict crisp classes for test set\n",
        "yhat_classes = model.predict(X_test, verbose=0)>0.5\n",
        "# reduce to 1d array\n",
        "yhat_probs = yhat_probs[:, 0]\n",
        "yhat_classes = yhat_classes[:, 0]\n",
        " \n",
        "# accuracy: (tp + tn) / (p + n)\n",
        "accuracy = accuracy_score(y_test, yhat_classes)\n",
        "print('Accuracy: %f' % accuracy)\n",
        "# precision tp / (tp + fp)\n",
        "precision = precision_score(y_test, yhat_classes)\n",
        "print('Precision: %f' % precision)\n",
        "# recall: tp / (tp + fn)\n",
        "recall = recall_score(y_test, yhat_classes)\n",
        "print('Recall: %f' % recall)\n",
        "# f1: 2 tp / (2 tp + fp + fn)\n",
        "f1 = f1_score(y_test, yhat_classes)\n",
        "print('F1 score: %f' % f1)\n",
        " \n",
        "# kappa\n",
        "kappa = cohen_kappa_score(y_test, yhat_classes)\n",
        "print('Cohens kappa: %f' % kappa)\n",
        "# ROC AUC\n",
        "auc = roc_auc_score(y_test, yhat_probs)\n",
        "print('ROC AUC: %f' % auc)\n",
        "# confusion matrix\n",
        "matrix = confusion_matrix(y_test, yhat_classes)\n",
        "print(matrix)"
      ],
      "metadata": {
        "colab": {
          "base_uri": "https://localhost:8080/"
        },
        "id": "t0zoOan3KfMT",
        "outputId": "3bfbda49-777e-4d02-80a4-74bc94d865b1"
      },
      "execution_count": 14,
      "outputs": [
        {
          "output_type": "stream",
          "name": "stdout",
          "text": [
            "9/9 - 0s - 44ms/epoch - 5ms/step\n",
            "Accuracy: 0.767273\n",
            "Precision: 0.728682\n",
            "Recall: 0.764228\n",
            "F1 score: 0.746032\n",
            "Cohens kappa: 0.531491\n",
            "ROC AUC: 0.766982\n",
            "[[117  35]\n",
            " [ 29  94]]\n"
          ]
        }
      ]
    },
    {
      "cell_type": "markdown",
      "metadata": {
        "id": "nYro_6NWt8Wk"
      },
      "source": [
        "# Implementing activation function for 25 epochs"
      ]
    },
    {
      "cell_type": "code",
      "source": [
        "# define model\n",
        "model = Sequential()\n",
        "model.add(Dense(10, activation='relu', kernel_initializer='he_normal', input_shape=(n_features,)))\n",
        "model.add(Dense(1, activation='sigmoid'))\n",
        "# compile the model\n",
        "model.compile(optimizer='adam', loss='binary_crossentropy', metrics=['accuracy'])\n",
        "# fit the model\n",
        "history = model.fit(X_train, y_train, epochs=25, batch_size=32, verbose=2, validation_data=(X_test,y_test))\n",
        "# predict test set\n",
        "yhat = model.predict(X_test) > 0.5\n",
        "# evaluate predictions\n",
        "score = accuracy_score(y_test, yhat)\n",
        "print('Accuracy: %.3f' % score)"
      ],
      "metadata": {
        "colab": {
          "base_uri": "https://localhost:8080/"
        },
        "id": "I3XF2WR48QCA",
        "outputId": "3e88d716-9881-44ed-e1d8-b3fc17e8fb76"
      },
      "execution_count": 15,
      "outputs": [
        {
          "output_type": "stream",
          "name": "stdout",
          "text": [
            "Epoch 1/25\n",
            "35/35 - 2s - loss: 2.7162 - accuracy: 0.2379 - val_loss: 2.3918 - val_accuracy: 0.2618 - 2s/epoch - 48ms/step\n",
            "Epoch 2/25\n",
            "35/35 - 0s - loss: 2.1793 - accuracy: 0.2826 - val_loss: 1.8557 - val_accuracy: 0.3309 - 139ms/epoch - 4ms/step\n",
            "Epoch 3/25\n",
            "35/35 - 0s - loss: 1.7147 - accuracy: 0.3428 - val_loss: 1.4283 - val_accuracy: 0.3855 - 150ms/epoch - 4ms/step\n",
            "Epoch 4/25\n",
            "35/35 - 0s - loss: 1.3751 - accuracy: 0.4193 - val_loss: 1.1422 - val_accuracy: 0.4945 - 231ms/epoch - 7ms/step\n",
            "Epoch 5/25\n",
            "35/35 - 0s - loss: 1.1319 - accuracy: 0.5360 - val_loss: 0.9310 - val_accuracy: 0.5818 - 181ms/epoch - 5ms/step\n",
            "Epoch 6/25\n",
            "35/35 - 0s - loss: 0.9358 - accuracy: 0.6235 - val_loss: 0.7542 - val_accuracy: 0.6764 - 291ms/epoch - 8ms/step\n",
            "Epoch 7/25\n",
            "35/35 - 0s - loss: 0.7703 - accuracy: 0.7037 - val_loss: 0.6150 - val_accuracy: 0.7709 - 235ms/epoch - 7ms/step\n",
            "Epoch 8/25\n",
            "35/35 - 0s - loss: 0.6378 - accuracy: 0.7885 - val_loss: 0.5032 - val_accuracy: 0.8327 - 165ms/epoch - 5ms/step\n",
            "Epoch 9/25\n",
            "35/35 - 0s - loss: 0.5266 - accuracy: 0.8487 - val_loss: 0.4162 - val_accuracy: 0.8691 - 206ms/epoch - 6ms/step\n",
            "Epoch 10/25\n",
            "35/35 - 0s - loss: 0.4381 - accuracy: 0.8797 - val_loss: 0.3453 - val_accuracy: 0.9091 - 336ms/epoch - 10ms/step\n",
            "Epoch 11/25\n",
            "35/35 - 0s - loss: 0.3644 - accuracy: 0.8979 - val_loss: 0.2908 - val_accuracy: 0.9382 - 168ms/epoch - 5ms/step\n",
            "Epoch 12/25\n",
            "35/35 - 0s - loss: 0.3060 - accuracy: 0.9152 - val_loss: 0.2487 - val_accuracy: 0.9564 - 236ms/epoch - 7ms/step\n",
            "Epoch 13/25\n",
            "35/35 - 0s - loss: 0.2607 - accuracy: 0.9307 - val_loss: 0.2159 - val_accuracy: 0.9636 - 135ms/epoch - 4ms/step\n",
            "Epoch 14/25\n",
            "35/35 - 0s - loss: 0.2256 - accuracy: 0.9380 - val_loss: 0.1911 - val_accuracy: 0.9673 - 280ms/epoch - 8ms/step\n",
            "Epoch 15/25\n",
            "35/35 - 0s - loss: 0.1980 - accuracy: 0.9590 - val_loss: 0.1721 - val_accuracy: 0.9745 - 236ms/epoch - 7ms/step\n",
            "Epoch 16/25\n",
            "35/35 - 0s - loss: 0.1765 - accuracy: 0.9736 - val_loss: 0.1565 - val_accuracy: 0.9745 - 188ms/epoch - 5ms/step\n",
            "Epoch 17/25\n",
            "35/35 - 0s - loss: 0.1591 - accuracy: 0.9845 - val_loss: 0.1441 - val_accuracy: 0.9818 - 153ms/epoch - 4ms/step\n",
            "Epoch 18/25\n",
            "35/35 - 0s - loss: 0.1453 - accuracy: 0.9872 - val_loss: 0.1332 - val_accuracy: 0.9818 - 156ms/epoch - 4ms/step\n",
            "Epoch 19/25\n",
            "35/35 - 0s - loss: 0.1337 - accuracy: 0.9881 - val_loss: 0.1249 - val_accuracy: 0.9818 - 141ms/epoch - 4ms/step\n",
            "Epoch 20/25\n",
            "35/35 - 0s - loss: 0.1241 - accuracy: 0.9891 - val_loss: 0.1170 - val_accuracy: 0.9818 - 129ms/epoch - 4ms/step\n",
            "Epoch 21/25\n",
            "35/35 - 0s - loss: 0.1157 - accuracy: 0.9936 - val_loss: 0.1105 - val_accuracy: 0.9818 - 211ms/epoch - 6ms/step\n",
            "Epoch 22/25\n",
            "35/35 - 0s - loss: 0.1084 - accuracy: 0.9936 - val_loss: 0.1046 - val_accuracy: 0.9818 - 122ms/epoch - 3ms/step\n",
            "Epoch 23/25\n",
            "35/35 - 0s - loss: 0.1020 - accuracy: 0.9954 - val_loss: 0.0993 - val_accuracy: 0.9818 - 153ms/epoch - 4ms/step\n",
            "Epoch 24/25\n",
            "35/35 - 0s - loss: 0.0964 - accuracy: 0.9973 - val_loss: 0.0949 - val_accuracy: 0.9818 - 165ms/epoch - 5ms/step\n",
            "Epoch 25/25\n",
            "35/35 - 0s - loss: 0.0914 - accuracy: 0.9973 - val_loss: 0.0903 - val_accuracy: 0.9818 - 131ms/epoch - 4ms/step\n",
            "9/9 [==============================] - 0s 2ms/step\n",
            "Accuracy: 0.982\n"
          ]
        }
      ]
    },
    {
      "cell_type": "code",
      "source": [
        "from sklearn.metrics import classification_report\n",
        "classification_report(y_test, yhat, labels=[0,1])"
      ],
      "metadata": {
        "colab": {
          "base_uri": "https://localhost:8080/",
          "height": 70
        },
        "id": "6E0LCtzaA_D_",
        "outputId": "e06ab555-4566-430d-87d3-350a0944d38b"
      },
      "execution_count": 16,
      "outputs": [
        {
          "output_type": "execute_result",
          "data": {
            "text/plain": [
              "'              precision    recall  f1-score   support\\n\\n           0       0.99      0.98      0.98       152\\n           1       0.98      0.98      0.98       123\\n\\n    accuracy                           0.98       275\\n   macro avg       0.98      0.98      0.98       275\\nweighted avg       0.98      0.98      0.98       275\\n'"
            ],
            "application/vnd.google.colaboratory.intrinsic+json": {
              "type": "string"
            }
          },
          "metadata": {},
          "execution_count": 16
        }
      ]
    },
    {
      "cell_type": "code",
      "source": [
        "# evaluate the model\n",
        "_, train_acc = model.evaluate(X_train, y_train, verbose=0)\n",
        "_, test_acc = model.evaluate(X_test, y_test, verbose=0)\n",
        "print('Train: %.3f, Test: %.3f' % (train_acc, test_acc))"
      ],
      "metadata": {
        "colab": {
          "base_uri": "https://localhost:8080/"
        },
        "id": "GZxhDBSP8VG8",
        "outputId": "0c7ab2f1-1727-4da5-d017-5102f7665086"
      },
      "execution_count": 17,
      "outputs": [
        {
          "output_type": "stream",
          "name": "stdout",
          "text": [
            "Train: 0.997, Test: 0.982\n"
          ]
        }
      ]
    },
    {
      "cell_type": "code",
      "source": [
        "# plot learning curves\n",
        "pyplot.title('Loss Curve')\n",
        "pyplot.xlabel('Epoch')\n",
        "pyplot.ylabel('Loss')\n",
        "pyplot.plot(history.history['loss'], label='train')\n",
        "pyplot.plot(history.history['val_loss'], label='val')\n",
        "pyplot.legend()\n",
        "pyplot.show()\n",
        "\n",
        "pyplot.title('Accuracy')\n",
        "pyplot.xlabel('Epoch')\n",
        "pyplot.ylabel('Accuracy')\n",
        "pyplot.plot(history.history['accuracy'], label='train')\n",
        "pyplot.plot(history.history['val_accuracy'], label='test')\n",
        "pyplot.legend()\n",
        "pyplot.show()"
      ],
      "metadata": {
        "colab": {
          "base_uri": "https://localhost:8080/",
          "height": 642
        },
        "id": "M9Ok9yCS8YmT",
        "outputId": "dfd51708-730e-4ceb-9956-72184d7a8d88"
      },
      "execution_count": 18,
      "outputs": [
        {
          "output_type": "execute_result",
          "data": {
            "text/plain": [
              "Text(0.5, 1.0, 'Loss Curve')"
            ]
          },
          "metadata": {},
          "execution_count": 18
        },
        {
          "output_type": "execute_result",
          "data": {
            "text/plain": [
              "Text(0.5, 0, 'Epoch')"
            ]
          },
          "metadata": {},
          "execution_count": 18
        },
        {
          "output_type": "execute_result",
          "data": {
            "text/plain": [
              "Text(0, 0.5, 'Loss')"
            ]
          },
          "metadata": {},
          "execution_count": 18
        },
        {
          "output_type": "execute_result",
          "data": {
            "text/plain": [
              "[<matplotlib.lines.Line2D at 0x7f1043c8a130>]"
            ]
          },
          "metadata": {},
          "execution_count": 18
        },
        {
          "output_type": "execute_result",
          "data": {
            "text/plain": [
              "[<matplotlib.lines.Line2D at 0x7f103f704100>]"
            ]
          },
          "metadata": {},
          "execution_count": 18
        },
        {
          "output_type": "execute_result",
          "data": {
            "text/plain": [
              "<matplotlib.legend.Legend at 0x7f1043c06040>"
            ]
          },
          "metadata": {},
          "execution_count": 18
        },
        {
          "output_type": "display_data",
          "data": {
            "text/plain": [
              "<Figure size 432x288 with 1 Axes>"
            ],
            "image/png": "[encoded data removed]"
          },
          "metadata": {
            "needs_background": "light"
          }
        },
        {
          "output_type": "execute_result",
          "data": {
            "text/plain": [
              "Text(0.5, 1.0, 'Accuracy')"
            ]
          },
          "metadata": {},
          "execution_count": 18
        },
        {
          "output_type": "execute_result",
          "data": {
            "text/plain": [
              "Text(0.5, 0, 'Epoch')"
            ]
          },
          "metadata": {},
          "execution_count": 18
        },
        {
          "output_type": "execute_result",
          "data": {
            "text/plain": [
              "Text(0, 0.5, 'Accuracy')"
            ]
          },
          "metadata": {},
          "execution_count": 18
        },
        {
          "output_type": "execute_result",
          "data": {
            "text/plain": [
              "[<matplotlib.lines.Line2D at 0x7f1043dbe4f0>]"
            ]
          },
          "metadata": {},
          "execution_count": 18
        },
        {
          "output_type": "execute_result",
          "data": {
            "text/plain": [
              "[<matplotlib.lines.Line2D at 0x7f1043dbeaf0>]"
            ]
          },
          "metadata": {},
          "execution_count": 18
        },
        {
          "output_type": "execute_result",
          "data": {
            "text/plain": [
              "<matplotlib.legend.Legend at 0x7f1043b9b2b0>"
            ]
          },
          "metadata": {},
          "execution_count": 18
        },
        {
          "output_type": "display_data",
          "data": {
            "text/plain": [
              "<Figure size 432x288 with 1 Axes>"
            ],
            "image/png": "[encoded data removed]"
          },
          "metadata": {
            "needs_background": "light"
          }
        }
      ]
    },
    {
      "cell_type": "markdown",
      "metadata": {
        "id": "9EdRLEm6B4JG"
      },
      "source": [
        "# Eval metrics"
      ]
    },
    {
      "cell_type": "code",
      "metadata": {
        "colab": {
          "base_uri": "https://localhost:8080/"
        },
        "id": "La9Qya0rIqr8",
        "outputId": "e05cb286-b1e2-47e3-862e-3d07dec3b1d1"
      },
      "source": [
        "from sklearn.metrics import accuracy_score\n",
        "from sklearn.metrics import precision_score\n",
        "from sklearn.metrics import recall_score\n",
        "from sklearn.metrics import f1_score\n",
        "from sklearn.metrics import cohen_kappa_score\n",
        "from sklearn.metrics import roc_auc_score\n",
        "from sklearn.metrics import confusion_matrix\n",
        "from keras.models import Sequential\n",
        "from keras.layers import Dense\n",
        "# predict probabilities for test set\n",
        "yhat_probs = model.predict(X_test, verbose=2)>0.5\n",
        "# predict crisp classes for test set\n",
        "yhat_classes = model.predict(X_test, verbose=0)>0.5\n",
        "# reduce to 1d array\n",
        "yhat_probs = yhat_probs[:, 0]\n",
        "yhat_classes = yhat_classes[:, 0]\n",
        " \n",
        "# accuracy: (tp + tn) / (p + n)\n",
        "accuracy = accuracy_score(y_test, yhat_classes)\n",
        "print('Accuracy: %f' % accuracy)\n",
        "# precision tp / (tp + fp)\n",
        "precision = precision_score(y_test, yhat_classes)\n",
        "print('Precision: %f' % precision)\n",
        "# recall: tp / (tp + fn)\n",
        "recall = recall_score(y_test, yhat_classes)\n",
        "print('Recall: %f' % recall)\n",
        "# f1: 2 tp / (2 tp + fp + fn)\n",
        "f1 = f1_score(y_test, yhat_classes)\n",
        "print('F1 score: %f' % f1)\n",
        " \n",
        "# kappa\n",
        "kappa = cohen_kappa_score(y_test, yhat_classes)\n",
        "print('Cohens kappa: %f' % kappa)\n",
        "# ROC AUC\n",
        "auc = roc_auc_score(y_test, yhat_probs)\n",
        "print('ROC AUC: %f' % auc)\n",
        "# confusion matrix\n",
        "matrix = confusion_matrix(y_test, yhat_classes)\n",
        "print(matrix)"
      ],
      "execution_count": 19,
      "outputs": [
        {
          "output_type": "stream",
          "name": "stdout",
          "text": [
            "9/9 - 0s - 40ms/epoch - 4ms/step\n",
            "Accuracy: 0.981818\n",
            "Precision: 0.975806\n",
            "Recall: 0.983740\n",
            "F1 score: 0.979757\n",
            "Cohens kappa: 0.963256\n",
            "ROC AUC: 0.982001\n",
            "[[149   3]\n",
            " [  2 121]]\n"
          ]
        }
      ]
    },
    {
      "cell_type": "code",
      "source": [],
      "metadata": {
        "id": "blm-qZFq1fC1"
      },
      "execution_count": 19,
      "outputs": []
    }
  ]
}